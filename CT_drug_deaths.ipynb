{
 "cells": [
  {
   "cell_type": "markdown",
   "metadata": {},
   "source": [
    "This notebook is the first of a series of various data analyses in which I try to better understand the United States' opioid epidemic. For background on this public health crisis: https://www.hhs.gov/opioids/about-the-epidemic/"
   ]
  },
  {
   "cell_type": "markdown",
   "metadata": {},
   "source": [
    "The first dataset I will examine is the State of Connectcut's \"Accidental Drug Related Deaths 2012-2016\" https://catalog.data.gov/dataset/accidental-drug-related-deaths-january-2012-sept-2015 \n",
    "\n",
    "The corresponding csv file can be found in the directory."
   ]
  },
  {
   "cell_type": "code",
   "execution_count": 5,
   "metadata": {
    "collapsed": true
   },
   "outputs": [],
   "source": [
    "#first, let's load the data and see its structure\n",
    "import pandas as pd\n",
    "import numpy as np\n",
    "import matplotlib.pyplot as plt\n",
    "\n",
    "dataframe = pd.read_csv('Accidental_Drug_Related_Deaths__2012-2016.csv')"
   ]
  },
  {
   "cell_type": "code",
   "execution_count": 6,
   "metadata": {
    "collapsed": false
   },
   "outputs": [
    {
     "name": "stdout",
     "output_type": "stream",
     "text": [
      "(3045, 32)\n"
     ]
    }
   ],
   "source": [
    "print(dataframe.shape)"
   ]
  },
  {
   "cell_type": "code",
   "execution_count": 7,
   "metadata": {
    "collapsed": false
   },
   "outputs": [
    {
     "name": "stdout",
     "output_type": "stream",
     "text": [
      "Index([u'CaseNumber', u'Date', u'Sex', u'Race', u'Age', u'Residence City',\n",
      "       u'Residence State', u'Residence County', u'Death City', u'Death State',\n",
      "       u'Death County', u'Location', u'DescriptionofInjury', u'InjuryPlace',\n",
      "       u'ImmediateCauseA', u'Heroin', u'Cocaine', u'Fentanyl', u'Oxycodone',\n",
      "       u'Oxymorphone', u'EtOH', u'Hydro-codeine', u'Benzodiazepine',\n",
      "       u'Methadone', u'Amphet', u'Tramad', u'Morphine (not heroin)', u'Other',\n",
      "       u'Any Opioid', u'MannerofDeath', u'AmendedMannerofDeath', u'DeathLoc'],\n",
      "      dtype='object')\n"
     ]
    }
   ],
   "source": [
    "#let's see what the headers look like \n",
    "print(dataframe.columns)"
   ]
  },
  {
   "cell_type": "markdown",
   "metadata": {},
   "source": [
    "As we see, there are a lot of different angles from which we can appraoch this data. Both the spatial and temporal elements can help provide more insight into how the epidemic is affecting the state of Connecticut. "
   ]
  },
  {
   "cell_type": "code",
   "execution_count": 8,
   "metadata": {
    "collapsed": false
   },
   "outputs": [],
   "source": [
    "#from a high level, let's first see how the number of heroin-related deaths has changed over the course of the 4 years. \n",
    "#we can construct dataframes for each year and save them for later use\n",
    "df_2012 = dataframe[dataframe['Date'].str.contains('2012')==True]\n",
    "df_2013 = dataframe[dataframe['Date'].str.contains('2013')==True]\n",
    "df_2014 = dataframe[dataframe['Date'].str.contains('2014')==True]\n",
    "df_2015 = dataframe[dataframe['Date'].str.contains('2015')==True]\n",
    "df_2016 = dataframe[dataframe['Date'].str.contains('2016')==True]"
   ]
  },
  {
   "cell_type": "code",
   "execution_count": 9,
   "metadata": {
    "collapsed": false
   },
   "outputs": [
    {
     "name": "stdout",
     "output_type": "stream",
     "text": [
      "1652\n"
     ]
    }
   ],
   "source": [
    "#We see 1652 heroin-related deaths in the entire dataset\n",
    "print(dataframe['Heroin'].value_counts()['Y'])"
   ]
  },
  {
   "cell_type": "code",
   "execution_count": 10,
   "metadata": {
    "collapsed": false
   },
   "outputs": [
    {
     "name": "stdout",
     "output_type": "stream",
     "text": [
      "Year\tHeroin-Related Deaths\n",
      "2012\t174\n",
      "2013\t256\n",
      "2014\t325\n",
      "2015\t415\n",
      "2016\t482\n"
     ]
    }
   ],
   "source": [
    "#Let's dig further into how many heroin-related deaths have occured on a year-by-year basis. \n",
    "\n",
    "print(\"Year\\tHeroin-Related Deaths\")\n",
    "print(\"2012\\t\"+str(df_2012['Heroin'].value_counts()['Y']))\n",
    "print(\"2013\\t\"+str(df_2013['Heroin'].value_counts()['Y']))\n",
    "print(\"2014\\t\"+str(df_2014['Heroin'].value_counts()['Y']))\n",
    "print(\"2015\\t\"+str(df_2015['Heroin'].value_counts()['Y']))\n",
    "print(\"2016\\t\"+str(df_2016['Heroin'].value_counts()['Y']))\n"
   ]
  },
  {
   "cell_type": "markdown",
   "metadata": {},
   "source": [
    "As we can see, the number of heroin-related deaths in the state of Connecticut has increased steadily in the past four years. We can use this as a baseline to dig deeper. "
   ]
  },
  {
   "cell_type": "code",
   "execution_count": 42,
   "metadata": {
    "collapsed": false
   },
   "outputs": [
    {
     "name": "stdout",
     "output_type": "stream",
     "text": [
      "Populating the interactive namespace from numpy and matplotlib\n"
     ]
    },
    {
     "data": {
      "image/png": "[encoded data removed]",
      "text/plain": [
       "<matplotlib.figure.Figure at 0xcfb8860>"
      ]
     },
     "metadata": {},
     "output_type": "display_data"
    }
   ],
   "source": [
    "'''\n",
    "Make a plot to visualize the data.\n",
    "'''\n",
    "\n",
    "# Load some inline features\n",
    "%pylab inline\n",
    "\n",
    "# Coerce the data into a useful format\n",
    "t = [\"2012\", \"2013\", \"2014\", \"2015\", \"2016\"]\n",
    "d = [dataframe[dataframe['Date'].str.contains(y)==True]['Heroin'].value_counts()['Y'] for y in t]\n",
    "\n",
    "# Perform some plotting\n",
    "plt.scatter(range(len(t)), d, marker='o', color='black');\n",
    "xlabel(\"Year\"); ylabel(\"Number of Deaths\");\n",
    "ylim([100,550])\n",
    "title(\"Number of Heroin Deaths in Connecticut\");\n",
    "plt.xticks(range(5), t);"
   ]
  },
  {
   "cell_type": "code",
   "execution_count": null,
   "metadata": {
    "collapsed": true
   },
   "outputs": [],
   "source": []
  },
  {
   "cell_type": "code",
   "execution_count": null,
   "metadata": {
    "collapsed": true
   },
   "outputs": [],
   "source": []
  }
 ],
 "metadata": {
  "anaconda-cloud": {},
  "kernelspec": {
   "display_name": "Python [Root]",
   "language": "python",
   "name": "Python [Root]"
  },
  "language_info": {
   "codemirror_mode": {
    "name": "ipython",
    "version": 2
   },
   "file_extension": ".py",
   "mimetype": "text/x-python",
   "name": "python",
   "nbconvert_exporter": "python",
   "pygments_lexer": "ipython2",
   "version": "2.7.11"
  }
 },
 "nbformat": 4,
 "nbformat_minor": 2
}
